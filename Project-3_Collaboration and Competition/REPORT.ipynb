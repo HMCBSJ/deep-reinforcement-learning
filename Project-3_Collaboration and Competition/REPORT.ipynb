{
  "nbformat": 4,
  "nbformat_minor": 0,
  "metadata": {
    "kernelspec": {
      "display_name": "Python 3",
      "language": "python",
      "name": "python3"
    },
    "language_info": {
      "codemirror_mode": {
        "name": "ipython",
        "version": 3
      },
      "file_extension": ".py",
      "mimetype": "text/x-python",
      "name": "python",
      "nbconvert_exporter": "python",
      "pygments_lexer": "ipython3",
      "version": "3.6.8"
    },
    "colab": {
      "name": "REPORT.ipynb",
      "provenance": [],
      "collapsed_sections": []
    }
  },
  "cells": [
    {
      "cell_type": "markdown",
      "metadata": {
        "id": "9bhwy4Fmkfui"
      },
      "source": [
        "## Report - Project Collaboration and Competition"
      ]
    },
    {
      "cell_type": "markdown",
      "metadata": {
        "id": "1VtP8c_Gkfuy"
      },
      "source": [
        "### Methods : DDPG and MADDPG Algorithms "
      ]
    },
    {
      "cell_type": "markdown",
      "metadata": {
        "id": "PLkwKGickfu0"
      },
      "source": [
        "In this collaboration and competition project, we deploy the **DDPG** algorithm along with the **MADDPG** algorithm, which is a **Multi-Agent DDPG** as DDPG wrapper. When it comes to DDPG, it can simultaneously learn a Q-function and it's policy. Next, it uses off-policy data and the Bellman equation to learn the Q-function. Fianlly, DDP learns the policy by using the Q-function. This paired mechanism is called a actor-critic method.  \n",
        "\n",
        "\n",
        "> Two additional mechanisms: _Replay Buffer_ and _Soft Updates_.\n",
        "\n",
        "\n",
        "\n",
        "For MADDPG algorithm, we train two separate agents to be the competitors to eachother, specifically, we let them **collaborate** and **compete**. MADDPG method comes in handy to get better result, compared to the original DDPG, in that, the original DDPG repeat a simple extension of single agent RL by independently training the two agents. It hardly works very well since the agents are individually updating their policiess when learning the prediction . Furthermore, this causes the environment to look like a non-stationary process from the viewpoint among one of the agent. \n",
        "\n",
        "When it comes to MADDPG, the critics of the _each agent are trained by the observations and actions_ that comes from **both agents** , while the actors of each _agent are trained by just_ which is their **own observations**.  \n",
        "\n",
        "In the finction _step()_ of the _class madppg_\\__agent_, we gether all of the current info\n",
        " for **both agents**  into  the **common** variable    \n",
        "_memory_ of the type  _ReplayBuffer_.  After that, we attain the random _sample_ and then move it from _memory_  into the variable _experiance_.   \n",
        "Then, this _experiance_ altogether with the current number of agent (0 or 1) moves to the function _learn()_. Then, we finally get the corresponding    \n",
        "agent (of type _ddpg_\\__agent_):\n",
        "\n",
        "      agent = self.agents[agent_number]\n",
        "\n",
        "and then _experiance_ is transferred to function _learn()_  of the _class ddpg_\\__agent_.  At the point, the actor and the critic are dealt with different ways.  \n",
        "\n",
        "\n",
        "\n",
        "\n",
        "\n"
      ]
    },
    {
      "cell_type": "markdown",
      "metadata": {
        "id": "_5sHSJQ5kfu3"
      },
      "source": [
        " ### Network Architecture "
      ]
    },
    {
      "cell_type": "markdown",
      "metadata": {
        "id": "U-BXWRh3kfu4"
      },
      "source": [
        "We use 8 _neural networks_.  In the training phase, we \n",
        "create one _maddpg agent_. \n",
        "\n",
        "         maddpg = maddpg_agent()\n",
        "         \n",
        "In the same way, _maddpg agent_ creates 2 _ddpg agents_: \n",
        "         \n",
        "         self.agents = [ddpg_agent(state_size, action_size, i+1, random_seed=0) \n",
        "                  for i in range(num_agents)]    \n",
        "\n",
        "Theoretically, we can see the two agents (red and blue) create 4 neural networks as all:\n",
        "\n",
        "        self.actor_local = Actor(state_size, action_size).to(device)\n",
        "        self.actor_target = Actor(state_size, action_size).to(device)\n",
        "\n",
        "        self.critic_local = Critic(state_size, action_size).to(device)\n",
        "        self.critic_target = Critic(state_size, action_size).to(device)\n",
        "\n",
        "Classes Actor and Critic are produced by **model.py**. The following is the typical behavior of the actor \n",
        "\n",
        "        actor_target(state) -> next_actions\n",
        "        actor_local(states) -> actions_pred\n",
        "        \n",
        "Observe function _learn()_ in maddpg agent. The typical behavior of the critic is as follows:\n",
        "\n",
        "        critic_target(state, action) -> Q-value \n",
        "        -critic_local(states, actions_pred) -> actor_loss\n",
        "              "
      ]
    },
    {
      "cell_type": "markdown",
      "metadata": {
        "id": "gk7ILB42kfu6"
      },
      "source": [
        "### The details of the Architecture for the actor and critic networks"
      ]
    },
    {
      "cell_type": "markdown",
      "metadata": {
        "id": "TyKSP8BMkfu7"
      },
      "source": [
        "The pair of the actor and critic classes implement the neural network\n",
        "with 3 fully-connected layers and 2 rectified nonlinear layers. such networks are realized in the framework\n",
        "of package \"PyTorch\", which is used in Udacity model.py code for the Pendulum model using DDPG.\n",
        "The number of neurons of the fully-connected layers are as follows:\n",
        "\n",
        "for the actor:   \n",
        "Layer fc1, number of neurons: state_size x fc1_units,   \n",
        "Layer fc2, number of neurons: fc1_units x fc2_units,   \n",
        "Layer fc3, number of neurons: fc2_units x action_size,   \n",
        "\n",
        "for the critic:   \n",
        "Layer fcs1, number of neurons: (state_size + action_size) x n_agents x fcs1_units,   \n",
        "Layer fc2, number of neurons: (fcs1_units x fc2_units,   \n",
        "Layer fc3, number of neurons: fc2_units x 1.   \n",
        "\n",
        "At this point, state_size = 24, action_size = 2.       \n",
        "The input parameters fc1_units, fc2_units, fcs1_units are all taken = 64.   "
      ]
    },
    {
      "cell_type": "markdown",
      "metadata": {
        "id": "HLzFMtuLkfu_"
      },
      "source": [
        "### Hyperparameters"
      ]
    },
    {
      "cell_type": "markdown",
      "metadata": {
        "id": "nQPs3kuBkfvA"
      },
      "source": [
        "From **ddpg_agent.py** \n",
        "\n",
        "        GAMMA = 0.99                    # discount factor  \n",
        "        TAU = 5e-2                      # for soft update of target parameters   \n",
        "        LR_ACTOR = 5e-4                 # learning rate of the actor   \n",
        "        LR_CRITIC = 5e-4                # learning rate of the critic  \n",
        "        WEIGHT_DECAY = 0.0              # L2 weight decay   \n",
        "        NOISE_AMPLIFICATION = 1         # exploration noise amplification  \n",
        "        NOISE_AMPLIFICATION_DECAY = 1   # noise amplification decay\n",
        "\n",
        "From **maddpg_agent.py**\n",
        "\n",
        "        BUFFER_SIZE = int(1e6)          # replay buffer size   \n",
        "        BATCH_SIZE = 512                # minibatch size   \n",
        "        LEARNING_PERIOD = 2             # weight update frequency \n",
        "        \n",
        "Observer that parameters LEARNING_PERIOD is important. The corresponding code is in the function   _step()_.\n",
        "\n",
        "     if len(self.memory) > BATCH_SIZE and timestep % LEARNING_PERIOD == 0: \n",
        "         for a_i, agent in enumerate(self.agents):\n",
        "              experiences = self.memory.sample()\n",
        "              self.learn(experiences, a_i)\n",
        "\n"
      ]
    },
    {
      "cell_type": "markdown",
      "metadata": {
        "id": "PxRKWFA4kfvC"
      },
      "source": [
        "### Summary for Training the Agent"
      ]
    },
    {
      "cell_type": "markdown",
      "metadata": {
        "id": "hC5K11-pkfvD"
      },
      "source": [
        "In my Udacity-powered GPU enviroment, the desired average reward **+0.5** was achieved in **30** minutes with **2550** episodes. Then, we had **0.4921**more score as the maximum score when the all enviroment is finished. Finally, we achieved the following result at last :\n",
        "\n",
        "> * Episode: 3000, Score: 0.6950, Average Score: 1.1871, Time: 01:30:46\n",
        "\n",
        "> * Environment solved in 2550 episodes! Average Score: **0.50**\n",
        "\n"
      ]
    },
    {
      "cell_type": "markdown",
      "metadata": {
        "id": "PSjY0Cy2kfvE"
      },
      "source": [
        "### Showing the Full Log"
      ]
    },
    {
      "cell_type": "markdown",
      "metadata": {
        "id": "W7PbPxDDkfvE"
      },
      "source": [
        "Episode: 20, Score: -0.0050, \tAverage Score: -0.0050, Time: 00:00:01 <br>\n",
        "Episode: 40, Score: -0.0050, \tAverage Score: -0.0050, Time: 00:00:02 <br>\n",
        "Episode: 60, Score: -0.0050, \tAverage Score: -0.0050, Time: 00:00:08 <br>\n",
        "Episode: 80, Score: -0.0050, \tAverage Score: -0.0050, Time: 00:00:14 <br>\n",
        "Episode: 100, Score: -0.0050, \tAverage Score: -0.0050, Time: 00:00:20 <br>\n",
        "Episode: 120, Score: -0.0050, \tAverage Score: -0.0040, Time: 00:00:26 <br>\n",
        "Episode: 140, Score: -0.0050, \tAverage Score: -0.0025, Time: 00:00:33 <br>\n",
        "Episode: 160, Score: -0.0050, \tAverage Score: 0.0000, Time: 00:00:40 <br>\n",
        "Episode: 180, Score: -0.0050, \tAverage Score: 0.0015, Time: 00:00:47 <br>\n",
        "Episode: 200, Score: -0.0050, \tAverage Score: 0.0040, Time: 00:00:56 <br>\n",
        "Episode: 220, Score: -0.0050, \tAverage Score: 0.0030, Time: 00:01:01 <br>\n",
        "Episode: 240, Score: -0.0050, \tAverage Score: 0.0020, Time: 00:01:08 <br>\n",
        "Episode: 260, Score: -0.0050, \tAverage Score: -0.0005, Time: 00:01:14 <br>\n",
        "Episode: 280, Score: 0.0450, \tAverage Score: -0.0010, Time: 00:01:20 <br>\n",
        "Episode: 300, Score: -0.0050, \tAverage Score: -0.0030, Time: 00:01:26 <br>\n",
        "Episode: 320, Score: -0.0050, \tAverage Score: -0.0030, Time: 00:01:32 <br>\n",
        "Episode: 340, Score: -0.0050, \tAverage Score: -0.0035, Time: 00:01:38 <br>\n",
        "Episode: 360, Score: -0.0050, \tAverage Score: -0.0035, Time: 00:01:44 <br>\n",
        "Episode: 380, Score: -0.0050, \tAverage Score: -0.0045, Time: 00:01:50 <br>\n",
        "Episode: 400, Score: -0.0050, \tAverage Score: -0.0045, Time: 00:01:56 <br>\n",
        "Episode: 420, Score: -0.0050, \tAverage Score: -0.0025, Time: 00:02:03 <br>\n",
        "Episode: 440, Score: -0.0050, \tAverage Score: -0.0015, Time: 00:02:10 <br>\n",
        "Episode: 460, Score: 0.0450, \tAverage Score: 0.0010, Time: 00:02:17 <br>\n",
        "Episode: 480, Score: -0.0050, \tAverage Score: 0.0025, Time: 00:02:24 <br>\n",
        "Episode: 500, Score: -0.0050, \tAverage Score: 0.0045, Time: 00:02:31 <br>\n",
        "Episode: 520, Score: 0.0450, \tAverage Score: 0.0060, Time: 00:02:39 <br>\n",
        "Episode: 540, Score: 0.0450, \tAverage Score: 0.0090, Time: 00:02:48 <br>\n",
        "Episode: 560, Score: -0.0050, \tAverage Score: 0.0090, Time: 00:02:55 <br>\n",
        "Episode: 580, Score: -0.0050, \tAverage Score: 0.0110, Time: 00:03:04 <br>\n",
        "Episode: 600, Score: -0.0050, \tAverage Score: 0.0105, Time: 00:03:11 <br>\n",
        "Episode: 620, Score: -0.0050, \tAverage Score: 0.0100, Time: 00:03:19 <br>\n",
        "Episode: 640, Score: -0.0050, \tAverage Score: 0.0085, Time: 00:03:26 <br>\n",
        "Episode: 660, Score: -0.0050, \tAverage Score: 0.0095, Time: 00:03:35 <br>\n",
        "Episode: 680, Score: -0.0050, \tAverage Score: 0.0085, Time: 00:03:42 <br>\n",
        "Episode: 700, Score: 0.0450, \tAverage Score: 0.0105, Time: 00:03:51 <br>\n",
        "Episode: 720, Score: -0.0050, \tAverage Score: 0.0115, Time: 00:03:59 <br>\n",
        "Episode: 740, Score: -0.0050, \tAverage Score: 0.0120, Time: 00:04:07 <br>\n",
        "Episode: 760, Score: -0.0050, \tAverage Score: 0.0120, Time: 00:04:15 <br>\n",
        "Episode: 780, Score: -0.0050, \tAverage Score: 0.0125, Time: 00:04:23 <br>\n",
        "Episode: 800, Score: -0.0050, \tAverage Score: 0.0110, Time: 00:04:31 <br>\n",
        "Episode: 820, Score: -0.0050, \tAverage Score: 0.0110, Time: 00:04:40 <br>\n",
        "Episode: 840, Score: 0.0450, \tAverage Score: 0.0145, Time: 00:04:50 <br>\n",
        "Episode: 860, Score: 0.0450, \tAverage Score: 0.0170, Time: 00:05:00 <br>\n",
        "Episode: 880, Score: 0.0450, \tAverage Score: 0.0190, Time: 00:05:09 <br>\n",
        "Episode: 900, Score: -0.0050, \tAverage Score: 0.0195, Time: 00:05:17 <br>\n",
        "Episode: 920, Score: -0.0050, \tAverage Score: 0.0200, Time: 00:05:26 <br>\n",
        "Episode: 940, Score: 0.0450, \tAverage Score: 0.0230, Time: 00:05:39 <br>\n",
        "Episode: 960, Score: -0.0050, \tAverage Score: 0.0205, Time: 00:05:47 <br>\n",
        "Episode: 980, Score: -0.0050, \tAverage Score: 0.0215, Time: 00:05:57 <br>\n",
        "Episode: 1000, Score: -0.0050, \tAverage Score: 0.0250, Time: 00:06:07 <br>\n",
        "Episode: 1020, Score: 0.0450, \tAverage Score: 0.0250, Time: 00:06:17 <br>\n",
        "Episode: 1040, Score: 0.0450, \tAverage Score: 0.0220, Time: 00:06:27 <br>\n",
        "Episode: 1060, Score: 0.0450, \tAverage Score: 0.0240, Time: 00:06:37 <br>\n",
        "Episode: 1080, Score: 0.0450, \tAverage Score: 0.0255, Time: 00:06:48 <br>\n",
        "Episode: 1100, Score: 0.0450, \tAverage Score: 0.0255, Time: 00:06:58 <br>\n",
        "Episode: 1120, Score: 0.0450, \tAverage Score: 0.0275, Time: 00:07:09 <br>\n",
        "Episode: 1140, Score: 0.0950, \tAverage Score: 0.0295, Time: 00:07:21 <br>\n",
        "Episode: 1160, Score: 0.0450, \tAverage Score: 0.0315, Time: 00:07:33 <br>\n",
        "Episode: 1180, Score: 0.0450, \tAverage Score: 0.0325, Time: 00:07:45 <br>\n",
        "Episode: 1200, Score: -0.0050, \tAverage Score: 0.0340, Time: 00:07:57 <br>\n",
        "Episode: 1220, Score: -0.0050, \tAverage Score: 0.0365, Time: 00:08:09 <br>\n",
        "Episode: 1240, Score: 0.0450, \tAverage Score: 0.0405, Time: 00:08:25 <br>\n",
        "Episode: 1260, Score: 0.0450, \tAverage Score: 0.0405, Time: 00:08:38 <br>\n",
        "Episode: 1280, Score: -0.0050, \tAverage Score: 0.0395, Time: 00:08:51 <br>\n",
        "Episode: 1300, Score: 0.0450, \tAverage Score: 0.0405, Time: 00:09:03 <br>\n",
        "Episode: 1320, Score: 0.0450, \tAverage Score: 0.0390, Time: 00:09:14 <br>\n",
        "Episode: 1340, Score: 0.0450, \tAverage Score: 0.0345, Time: 00:09:26 <br>\n",
        "Episode: 1360, Score: -0.0050, \tAverage Score: 0.0335, Time: 00:09:37 <br>\n",
        "Episode: 1380, Score: -0.0050, \tAverage Score: 0.0340, Time: 00:09:48 <br>\n",
        "Episode: 1400, Score: 0.0450, \tAverage Score: 0.0315, Time: 00:09:59 <br>\n",
        "Episode: 1420, Score: -0.0050, \tAverage Score: 0.0310, Time: 00:10:09 <br>\n",
        "Episode: 1440, Score: 0.0450, \tAverage Score: 0.0320, Time: 00:10:22 <br>\n",
        "Episode: 1460, Score: 0.0450, \tAverage Score: 0.0355, Time: 00:10:36 <br>\n",
        "Episode: 1480, Score: -0.0050, \tAverage Score: 0.0360, Time: 00:10:48 <br>\n",
        "Episode: 1500, Score: -0.0050, \tAverage Score: 0.0385, Time: 00:11:01 <br>\n",
        "Episode: 1520, Score: 0.0450, \tAverage Score: 0.0380, Time: 00:11:12 <br>\n",
        "Episode: 1540, Score: -0.0050, \tAverage Score: 0.0335, Time: 00:11:23 <br>\n",
        "Episode: 1560, Score: -0.0050, \tAverage Score: 0.0255, Time: 00:11:31 <br>\n",
        "Episode: 1580, Score: -0.0050, \tAverage Score: 0.0260, Time: 00:11:43 <br>\n",
        "Episode: 1600, Score: -0.0050, \tAverage Score: 0.0225, Time: 00:11:54 <br>\n",
        "Episode: 1620, Score: 0.0950, \tAverage Score: 0.0210, Time: 00:12:04 <br>\n",
        "Episode: 1640, Score: 0.0450, \tAverage Score: 0.0235, Time: 00:12:15 <br>\n",
        "Episode: 1660, Score: 0.0950, \tAverage Score: 0.0310, Time: 00:12:28 <br>\n",
        "Episode: 1680, Score: 0.0450, \tAverage Score: 0.0320, Time: 00:12:42 <br>\n",
        "Episode: 1700, Score: -0.0050, \tAverage Score: 0.0345, Time: 00:12:54 <br>\n",
        "Episode: 1720, Score: 0.0450, \tAverage Score: 0.0375, Time: 00:13:07 <br>\n",
        "Episode: 1740, Score: -0.0050, \tAverage Score: 0.0355, Time: 00:13:17 <br>\n",
        "Episode: 1760, Score: 0.0450, \tAverage Score: 0.0330, Time: 00:13:28 <br>\n",
        "Episode: 1780, Score: -0.0050, \tAverage Score: 0.0260, Time: 00:13:36 <br>\n",
        "Episode: 1800, Score: -0.0050, \tAverage Score: 0.0265, Time: 00:13:48 <br>\n",
        "Episode: 1820, Score: 0.0450, \tAverage Score: 0.0270, Time: 00:14:01 <br>\n",
        "Episode: 1840, Score: -0.0050, \tAverage Score: 0.0270, Time: 00:14:10 <br>\n",
        "Episode: 1860, Score: 0.0450, \tAverage Score: 0.0310, Time: 00:14:24 <br>\n",
        "Episode: 1880, Score: -0.0050, \tAverage Score: 0.0325, Time: 00:14:33 <br>\n",
        "Episode: 1900, Score: 0.0450, \tAverage Score: 0.0330, Time: 00:14:47 <br>\n",
        "Episode: 1920, Score: 0.0450, \tAverage Score: 0.0325, Time: 00:14:59 <br>\n",
        "Episode: 1940, Score: 0.0950, \tAverage Score: 0.0380, Time: 00:15:13 <br>\n",
        "Episode: 1960, Score: 0.0950, \tAverage Score: 0.0370, Time: 00:15:27 <br>\n",
        "Episode: 1980, Score: 0.0450, \tAverage Score: 0.0420, Time: 00:15:40 <br>\n",
        "Episode: 2000, Score: 0.0450, \tAverage Score: 0.0425, Time: 00:15:53 <br>\n",
        "Episode: 2020, Score: 0.0450, \tAverage Score: 0.0465, Time: 00:16:08 <br>\n",
        "Episode: 2040, Score: 0.0950, \tAverage Score: 0.0460, Time: 00:16:23 <br>\n",
        "Episode: 2060, Score: 0.0950, \tAverage Score: 0.0445, Time: 00:16:36 <br>\n",
        "Episode: 2080, Score: -0.0050, \tAverage Score: 0.0490, Time: 00:16:54 <br>\n",
        "Episode: 2100, Score: 0.0450, \tAverage Score: 0.0540, Time: 00:17:12 <br>\n",
        "Episode: 2120, Score: 0.0450, \tAverage Score: 0.0475, Time: 00:17:23 <br>\n",
        "Episode: 2140, Score: 0.0450, \tAverage Score: 0.0520, Time: 00:17:41 <br>\n",
        "Episode: 2160, Score: 0.0450, \tAverage Score: 0.0555, Time: 00:17:56 <br>\n",
        "Episode: 2180, Score: 0.0450, \tAverage Score: 0.0564, Time: 00:18:14 <br>\n",
        "Episode: 2200, Score: 0.0450, \tAverage Score: 0.0539, Time: 00:18:29 <br>\n",
        "Episode: 2220, Score: 0.0450, \tAverage Score: 0.0579, Time: 00:18:42 <br>\n",
        "Episode: 2240, Score: 0.1450, \tAverage Score: 0.0544, Time: 00:18:57 <br>\n",
        "Episode: 2260, Score: -0.0050, \tAverage Score: 0.0529, Time: 00:19:11 <br>\n",
        "Episode: 2280, Score: 0.0450, \tAverage Score: 0.0480, Time: 00:19:24 <br>\n",
        "Episode: 2300, Score: 0.0450, \tAverage Score: 0.0440, Time: 00:19:37 <br>\n",
        "Episode: 2320, Score: 0.0450, \tAverage Score: 0.0495, Time: 00:19:55 <br>\n",
        "Episode: 2340, Score: 0.2450, \tAverage Score: 0.0540, Time: 00:20:14 <br>\n",
        "Episode: 2360, Score: -0.0050, \tAverage Score: 0.0550, Time: 00:20:29 <br>\n",
        "Episode: 2380, Score: 0.1950, \tAverage Score: 0.0860, Time: 00:21:08 <br>\n",
        "Episode: 2400, Score: -0.0050, \tAverage Score: 0.1240, Time: 00:21:53 <br>\n",
        "Episode: 2420, Score: -0.0050, \tAverage Score: 0.1390, Time: 00:22:25 <br>\n",
        "Episode: 2440, Score: -0.0050, \tAverage Score: 0.1795, Time: 00:23:17 <br>\n",
        "Episode: 2460, Score: 0.0450, \tAverage Score: 0.2050, Time: 00:23:54 <br>\n",
        "Episode: 2480, Score: 0.1950, \tAverage Score: 0.2215, Time: 00:24:48 <br>\n",
        "Episode: 2500, Score: 1.4450, \tAverage Score: 0.2565, Time: 00:26:03 <br>\n",
        "Episode: 2520, Score: 0.2450, \tAverage Score: 0.3090, Time: 00:27:18 <br>\n",
        "Episode: 2540, Score: 0.3950, \tAverage Score: 0.4131, Time: 00:29:36 <br>\n",
        "\n",
        "*** Environment solved in 2550 episodes!\tAverage Score: 0.50 ***<br>\n",
        "\n",
        "Episode: 2560, Score: 0.4450, \tAverage Score: 0.5953, Time: 00:32:44 <br>\n",
        "Episode: 2580, Score: 0.1450, \tAverage Score: 0.6954, Time: 00:35:00 <br>\n",
        "Episode: 2600, Score: 0.1450, \tAverage Score: 0.6729, Time: 00:35:54 <br>\n",
        "*** Episode 2600\tAverage Score: 0.67, Time: 00:35:54 ***<br>\n",
        " \n",
        "Episode: 2620, Score: 0.1950, \tAverage Score: 0.6399, Time: 00:36:39 <br>\n",
        "Episode: 2640, Score: 0.0950, \tAverage Score: 0.6094, Time: 00:38:30 <br>\n",
        "Episode: 2660, Score: 2.4950, \tAverage Score: 0.6544, Time: 00:42:10 <br>\n",
        "\n",
        "Episode: 2360, Score: -0.0050, \tAverage Score: 0.0550, Time: 00:20:29 <br>\n",
        "Episode: 2380, Score: 0.1950, \tAverage Score: 0.0860, Time: 00:21:08 <br>\n",
        "Episode: 2400, Score: -0.0050, \tAverage Score: 0.1240, Time: 00:21:53 <br>\n",
        "Episode: 2420, Score: -0.0050, \tAverage Score: 0.1390, Time: 00:22:25 <br>\n",
        "Episode: 2440, Score: -0.0050, \tAverage Score: 0.1795, Time: 00:23:17 <br>\n",
        "Episode: 2460, Score: 0.0450, \tAverage Score: 0.2050, Time: 00:23:54 <br>\n",
        "Episode: 2480, Score: 0.1950, \tAverage Score: 0.2215, Time: 00:24:48 <br>\n",
        "Episode: 2500, Score: 1.4450, \tAverage Score: 0.2565, Time: 00:26:03 <br>\n",
        "Episode: 2520, Score: 0.2450, \tAverage Score: 0.3090, Time: 00:27:18 <br>\n",
        "Episode: 2540, Score: 0.3950, \tAverage Score: 0.4131, Time: 00:29:36 <br>\n",
        "\n",
        "*** Environment solved in 2550 episodes!\tAverage Score: 0.50 ***<br>\n",
        "\n",
        "Episode: 2560, Score: 0.4450, \tAverage Score: 0.5953, Time: 00:32:44 <br>\n",
        "Episode: 2580, Score: 0.1450, \tAverage Score: 0.6954, Time: 00:35:00 <br>\n",
        "Episode: 2600, Score: 0.1450, \tAverage Score: 0.6729, Time: 00:35:54 <br>\n",
        "*** Episode 2600\tAverage Score: 0.67, Time: 00:35:54 ***<br>\n",
        " \n",
        "Episode: 2620, Score: 0.1950, \tAverage Score: 0.6399, Time: 00:36:39 <br>\n",
        "Episode: 2640, Score: 0.0950, \tAverage Score: 0.6094, Time: 00:38:30 <br>\n",
        "Episode: 2660, Score: 2.4950, \tAverage Score: 0.6544, Time: 00:42:10 <br>\n",
        "Episode: 2680, Score: 1.0450, \tAverage Score: 0.7255, Time: 00:45:19 <br>\n",
        "**Environment solved in 2550 episodes!\tAverage Score: 0.50**<br>\n",
        "Episode: 2560, Score: 0.4450, \tAverage Score: 0.5953, Time: 00:32:44 <br>\n",
        "Episode: 2580, Score: 0.1450, \tAverage Score: 0.6954, Time: 00:35:00 <br>\n",
        "Episode: 2600, Score: 0.1450, \tAverage Score: 0.6729, Time: 00:35:54 <br>\n",
        "*** Episode 2600\tAverage Score: 0.67, Time: 00:35:54 ***<br>\n",
        " \n",
        "Episode: 2620, Score: 0.1950, \tAverage Score: 0.6399, Time: 00:36:39 <br>\n",
        "Episode: 2640, Score: 0.0950, \tAverage Score: 0.6094, Time: 00:38:30 <br>\n",
        "Episode: 2660, Score: 2.4950, \tAverage Score: 0.6544, Time: 00:42:10 <br>\n",
        "Episode: 2680, Score: 1.0450, \tAverage Score: 0.7255, Time: 00:45:19 <br>\n",
        "Episode: 2700, Score: 0.0950, \tAverage Score: 0.7895, Time: 00:47:06 <br>\n",
        "*** Episode 2700\tAverage Score: 0.79, Time: 00:47:06 ***<br>\n",
        "\n",
        "Episode: 2720, Score: 0.0450, \tAverage Score: 0.8375, Time: 00:48:38 <br>\n",
        "Episode: 2740, Score: 0.0950, \tAverage Score: 0.7929, Time: 00:49:56 <br>\n",
        "Episode: 2760, Score: 0.1950, \tAverage Score: 0.5787, Time: 00:50:46 <br>\n",
        "Episode: 2780, Score: 0.5950, \tAverage Score: 0.4650, Time: 00:52:26 <br>\n",
        "Episode: 2800, Score: 0.1950, \tAverage Score: 0.5201, Time: 00:54:57 <br>\n",
        "Episode: 2820, Score: 0.4950, \tAverage Score: 0.6066, Time: 00:57:34 <br>\n",
        "Episode: 2840, Score: 0.8450, \tAverage Score: 0.7086, Time: 01:00:15 <br>\n",
        "Episode: 2860, Score: 0.4950, \tAverage Score: 0.9028, Time: 01:03:42 <br>\n",
        "Episode: 2880, Score: 2.6500, \tAverage Score: 1.1614, Time: 01:08:53 <br>\n",
        "Episode: 2900, Score: 0.3450, \tAverage Score: 1.2782, Time: 01:13:02 <br>\n",
        "*** Episode 2900\tAverage Score: 1.28, Time: 01:13:02 ***<br>\n",
        " \n",
        "Episode: 2920, Score: 2.6500, \tAverage Score: 1.3686, Time: 01:16:57 <br>\n",
        "Episode: 2940, Score: 0.0950, \tAverage Score: 1.5221, Time: 01:21:51 <br>\n",
        "*** Episode 2950\tAverage Score: 1.56, Time: 01:24:07 ***<br>\n",
        " \n",
        "Episode: 2960, Score: 0.2950, \tAverage Score: 1.4805, Time: 01:25:00 <br>\n",
        "Episode: 2980, Score: 0.5950, \tAverage Score: 1.2584, Time: 01:27:21 <br>\n",
        "Episode: 3000, Score: 0.6950, \tAverage Score: 1.1871, Time: 01:30:46 <br>\n"
      ]
    },
    {
      "cell_type": "markdown",
      "metadata": {
        "id": "SvG3WpgokfvM"
      },
      "source": [
        "### Future Works"
      ]
    },
    {
      "cell_type": "markdown",
      "metadata": {
        "id": "11Bc3AP2kfvT"
      },
      "source": [
        "1. Try various values for hyperparameters such as LEARNING_PERIOD, and neural network parameters fc1_units, fc2_units, then check if we can advance the original performance.\n",
        "2. We can check the affect of the adding one or above one new nonlinear layers in the current neural networks on the robustness of the algorithm.\n",
        "3. We can train agents using [MAPPO](https://github.com/kotogasy/unity-ml-tennis) and take a look and the result comparing with MADDPG. "
      ]
    },
    {
      "cell_type": "code",
      "metadata": {
        "id": "90fb-LuqkfvU"
      },
      "source": [
        ""
      ],
      "execution_count": null,
      "outputs": []
    }
  ]
}